{
 "cells": [
  {
   "cell_type": "code",
   "execution_count": 1,
   "metadata": {},
   "outputs": [],
   "source": [
    "%matplotlib inline\n",
    "\n",
    "import pandas as pd\n",
    "import geopandas\n",
    "import matplotlib.pyplot as plt"
   ]
  },
  {
   "cell_type": "markdown",
   "metadata": {},
   "source": [
    "# Case study - Conflict mapping: mining sites in eastern DR Congo\n",
    "\n",
    "In this case study, we will explore a dataset on artisanal mining sites located in eastern DR Congo.\n",
    "\n",
    "**Note**: this tutorial is meant as a hands-on session, and most code examples are provided as exercises to be filled in. I highly recommend actually trying to do this yourself, but if you want to follow the solved tutorial, you can find this in the `_solved` directory.\n",
    "\n",
    "---\n",
    "\n",
    "#### Background\n",
    "\n",
    "[IPIS](http://ipisresearch.be/), the International Peace Information Service, manages a database on mining site visits in eastern DR Congo: http://ipisresearch.be/home/conflict-mapping/maps/open-data/\n",
    "\n",
    "Since  2009, IPIS has visited artisanal mining sites in the region during various data collection campaigns. As part of these campaigns, surveyor teams visit mining sites in the field, meet with miners and complete predefined questionnaires. These contain questions about the mining site, the minerals mined at the site and the armed groups possibly present at the site.\n",
    "\n",
    "Some additional links:\n",
    "\n",
    "* Tutorial on the same data using R from IPIS (but without geospatial aspect): http://ipisresearch.be/home/conflict-mapping/maps/open-data/open-data-tutorial/\n",
    "* Interactive web app using the same data: http://www.ipisresearch.be/mapping/webmapping/drcongo/v5/"
   ]
  },
  {
   "cell_type": "markdown",
   "metadata": {},
   "source": [
    "## 1. Importing and exploring the data"
   ]
  },
  {
   "cell_type": "markdown",
   "metadata": {},
   "source": [
    "### The mining site visit data\n",
    "\n",
    "IPIS provides a WFS server to access the data. We can send a query to this server to download the data, and load the result into a geopandas GeoDataFrame:"
   ]
  },
  {
   "cell_type": "code",
   "execution_count": 2,
   "metadata": {},
   "outputs": [],
   "source": [
    "import requests\n",
    "import json\n",
    "\n",
    "wfs_url = \"http://geo.ipisresearch.be/geoserver/public/ows\"\n",
    "params = dict(service='WFS', version='1.0.0', request='GetFeature',\n",
    "              typeName='public:cod_mines_curated_all_opendata_p_ipis', outputFormat='json')\n",
    "\n",
    "r = requests.get(wfs_url, params=params)\n",
    "data_features = json.loads(r.content.decode('UTF-8'))\n",
    "data_visits = geopandas.GeoDataFrame.from_features(data_features)"
   ]
  },
  {
   "cell_type": "markdown",
   "metadata": {},
   "source": [
    "However, the data is also provided in the tutorial materials as a GeoJSON file, so it is certainly available during the tutorial."
   ]
  },
  {
   "cell_type": "markdown",
   "metadata": {},
   "source": [
    "<div class=\"alert alert-success\">\n",
    " <b>EXERCISE</b>:\n",
    " <ul>\n",
    "  <li>Read the GeoJSON file `data/cod_mines_curated_all_opendata_p_ipis.geojson` using geopandas, and call the result `data_visits`.</li>\n",
    "  <li>Inspect the first 5 rows, and check the number of observations</li>\n",
    " </ul> \n",
    "\n",
    "</div>"
   ]
  },
  {
   "cell_type": "code",
   "execution_count": 17,
   "metadata": {
    "clear_cell": true
   },
   "outputs": [],
   "source": [
    "# %load _solved/solutions/case-conflict-mapping3.py\n",
    "data_visits = geopandas.read_file(\"data/cod_mines_curated_all_opendata_p_ipis.geojson\")"
   ]
  },
  {
   "cell_type": "code",
   "execution_count": 18,
   "metadata": {
    "clear_cell": true
   },
   "outputs": [
    {
     "data": {
      "text/html": [
       "<div>\n",
       "<style scoped>\n",
       "    .dataframe tbody tr th:only-of-type {\n",
       "        vertical-align: middle;\n",
       "    }\n",
       "\n",
       "    .dataframe tbody tr th {\n",
       "        vertical-align: top;\n",
       "    }\n",
       "\n",
       "    .dataframe thead th {\n",
       "        text-align: right;\n",
       "    }\n",
       "</style>\n",
       "<table border=\"1\" class=\"dataframe\">\n",
       "  <thead>\n",
       "    <tr style=\"text-align: right;\">\n",
       "      <th></th>\n",
       "      <th>id</th>\n",
       "      <th>vid</th>\n",
       "      <th>source</th>\n",
       "      <th>project</th>\n",
       "      <th>pcode</th>\n",
       "      <th>name</th>\n",
       "      <th>visit_date</th>\n",
       "      <th>visit_onsite</th>\n",
       "      <th>visit_onsite_novisitreason</th>\n",
       "      <th>longitude</th>\n",
       "      <th>...</th>\n",
       "      <th>digging_armed_group2</th>\n",
       "      <th>forced_labour_armed_group2</th>\n",
       "      <th>pillaging_armed_group2</th>\n",
       "      <th>state_service1</th>\n",
       "      <th>state_service2</th>\n",
       "      <th>state_service3</th>\n",
       "      <th>state_service4</th>\n",
       "      <th>itsci</th>\n",
       "      <th>qualification</th>\n",
       "      <th>geometry</th>\n",
       "    </tr>\n",
       "  </thead>\n",
       "  <tbody>\n",
       "    <tr>\n",
       "      <th>0</th>\n",
       "      <td>cod_mines_curated_all_opendata_p_ipis.fid-11f0...</td>\n",
       "      <td>1</td>\n",
       "      <td>IPIS - Ministère des Mines</td>\n",
       "      <td>IPIS - 2009</td>\n",
       "      <td>codmine00191</td>\n",
       "      <td>Eohe</td>\n",
       "      <td>2009-01-01</td>\n",
       "      <td>1</td>\n",
       "      <td>None</td>\n",
       "      <td>28.712580</td>\n",
       "      <td>...</td>\n",
       "      <td>NaN</td>\n",
       "      <td>NaN</td>\n",
       "      <td>NaN</td>\n",
       "      <td>None</td>\n",
       "      <td>None</td>\n",
       "      <td>None</td>\n",
       "      <td>None</td>\n",
       "      <td>None</td>\n",
       "      <td>None</td>\n",
       "      <td>POINT (28.71258 0.33188)</td>\n",
       "    </tr>\n",
       "    <tr>\n",
       "      <th>1</th>\n",
       "      <td>cod_mines_curated_all_opendata_p_ipis.fid-11f0...</td>\n",
       "      <td>2</td>\n",
       "      <td>IPIS - Ministère des Mines</td>\n",
       "      <td>IPIS - 2009</td>\n",
       "      <td>codmine00192</td>\n",
       "      <td>Eita</td>\n",
       "      <td>2009-01-01</td>\n",
       "      <td>1</td>\n",
       "      <td>None</td>\n",
       "      <td>28.699160</td>\n",
       "      <td>...</td>\n",
       "      <td>NaN</td>\n",
       "      <td>NaN</td>\n",
       "      <td>NaN</td>\n",
       "      <td>None</td>\n",
       "      <td>None</td>\n",
       "      <td>None</td>\n",
       "      <td>None</td>\n",
       "      <td>None</td>\n",
       "      <td>None</td>\n",
       "      <td>POINT (28.69916 0.32153)</td>\n",
       "    </tr>\n",
       "    <tr>\n",
       "      <th>2</th>\n",
       "      <td>cod_mines_curated_all_opendata_p_ipis.fid-11f0...</td>\n",
       "      <td>3</td>\n",
       "      <td>IPIS - Ministère des Mines</td>\n",
       "      <td>IPIS - 2009</td>\n",
       "      <td>codmine00242</td>\n",
       "      <td>Mungu Iko</td>\n",
       "      <td>2009-01-01</td>\n",
       "      <td>1</td>\n",
       "      <td>None</td>\n",
       "      <td>28.185142</td>\n",
       "      <td>...</td>\n",
       "      <td>NaN</td>\n",
       "      <td>NaN</td>\n",
       "      <td>NaN</td>\n",
       "      <td>None</td>\n",
       "      <td>None</td>\n",
       "      <td>None</td>\n",
       "      <td>None</td>\n",
       "      <td>None</td>\n",
       "      <td>None</td>\n",
       "      <td>POINT (28.18514 0.54499)</td>\n",
       "    </tr>\n",
       "    <tr>\n",
       "      <th>3</th>\n",
       "      <td>cod_mines_curated_all_opendata_p_ipis.fid-11f0...</td>\n",
       "      <td>4</td>\n",
       "      <td>IPIS - Ministère des Mines</td>\n",
       "      <td>IPIS - 2009</td>\n",
       "      <td>codmine00260</td>\n",
       "      <td>Kiviri/Tayna</td>\n",
       "      <td>2009-01-01</td>\n",
       "      <td>1</td>\n",
       "      <td>None</td>\n",
       "      <td>28.884528</td>\n",
       "      <td>...</td>\n",
       "      <td>NaN</td>\n",
       "      <td>NaN</td>\n",
       "      <td>NaN</td>\n",
       "      <td>None</td>\n",
       "      <td>None</td>\n",
       "      <td>None</td>\n",
       "      <td>None</td>\n",
       "      <td>None</td>\n",
       "      <td>None</td>\n",
       "      <td>POINT (28.88453 -0.35253)</td>\n",
       "    </tr>\n",
       "    <tr>\n",
       "      <th>4</th>\n",
       "      <td>cod_mines_curated_all_opendata_p_ipis.fid-11f0...</td>\n",
       "      <td>5</td>\n",
       "      <td>IPIS - Ministère des Mines</td>\n",
       "      <td>IPIS - 2009</td>\n",
       "      <td>codmine00272</td>\n",
       "      <td>Makanga</td>\n",
       "      <td>2009-01-01</td>\n",
       "      <td>1</td>\n",
       "      <td>None</td>\n",
       "      <td>28.903945</td>\n",
       "      <td>...</td>\n",
       "      <td>NaN</td>\n",
       "      <td>NaN</td>\n",
       "      <td>NaN</td>\n",
       "      <td>None</td>\n",
       "      <td>None</td>\n",
       "      <td>None</td>\n",
       "      <td>None</td>\n",
       "      <td>None</td>\n",
       "      <td>None</td>\n",
       "      <td>POINT (28.90395 -0.03671)</td>\n",
       "    </tr>\n",
       "  </tbody>\n",
       "</table>\n",
       "<p>5 rows × 62 columns</p>\n",
       "</div>"
      ],
      "text/plain": [
       "                                                  id  vid  \\\n",
       "0  cod_mines_curated_all_opendata_p_ipis.fid-11f0...    1   \n",
       "1  cod_mines_curated_all_opendata_p_ipis.fid-11f0...    2   \n",
       "2  cod_mines_curated_all_opendata_p_ipis.fid-11f0...    3   \n",
       "3  cod_mines_curated_all_opendata_p_ipis.fid-11f0...    4   \n",
       "4  cod_mines_curated_all_opendata_p_ipis.fid-11f0...    5   \n",
       "\n",
       "                       source      project         pcode          name  \\\n",
       "0  IPIS - Ministère des Mines  IPIS - 2009  codmine00191          Eohe   \n",
       "1  IPIS - Ministère des Mines  IPIS - 2009  codmine00192          Eita   \n",
       "2  IPIS - Ministère des Mines  IPIS - 2009  codmine00242     Mungu Iko   \n",
       "3  IPIS - Ministère des Mines  IPIS - 2009  codmine00260  Kiviri/Tayna   \n",
       "4  IPIS - Ministère des Mines  IPIS - 2009  codmine00272       Makanga   \n",
       "\n",
       "   visit_date  visit_onsite visit_onsite_novisitreason  longitude  ...  \\\n",
       "0  2009-01-01             1                       None  28.712580  ...   \n",
       "1  2009-01-01             1                       None  28.699160  ...   \n",
       "2  2009-01-01             1                       None  28.185142  ...   \n",
       "3  2009-01-01             1                       None  28.884528  ...   \n",
       "4  2009-01-01             1                       None  28.903945  ...   \n",
       "\n",
       "   digging_armed_group2 forced_labour_armed_group2 pillaging_armed_group2  \\\n",
       "0                   NaN                        NaN                    NaN   \n",
       "1                   NaN                        NaN                    NaN   \n",
       "2                   NaN                        NaN                    NaN   \n",
       "3                   NaN                        NaN                    NaN   \n",
       "4                   NaN                        NaN                    NaN   \n",
       "\n",
       "  state_service1 state_service2 state_service3 state_service4 itsci  \\\n",
       "0           None           None           None           None  None   \n",
       "1           None           None           None           None  None   \n",
       "2           None           None           None           None  None   \n",
       "3           None           None           None           None  None   \n",
       "4           None           None           None           None  None   \n",
       "\n",
       "   qualification                   geometry  \n",
       "0           None   POINT (28.71258 0.33188)  \n",
       "1           None   POINT (28.69916 0.32153)  \n",
       "2           None   POINT (28.18514 0.54499)  \n",
       "3           None  POINT (28.88453 -0.35253)  \n",
       "4           None  POINT (28.90395 -0.03671)  \n",
       "\n",
       "[5 rows x 62 columns]"
      ]
     },
     "execution_count": 18,
     "metadata": {},
     "output_type": "execute_result"
    }
   ],
   "source": [
    "# %load _solved/solutions/case-conflict-mapping4.py\n",
    "data_visits.head()"
   ]
  },
  {
   "cell_type": "code",
   "execution_count": 78,
   "metadata": {
    "clear_cell": true
   },
   "outputs": [
    {
     "data": {
      "text/plain": [
       "3687"
      ]
     },
     "execution_count": 78,
     "metadata": {},
     "output_type": "execute_result"
    }
   ],
   "source": [
    "# %load _solved/solutions/case-conflict-mapping5.py\n",
    "len(data_visits)\n",
    "# or data_visits.shape[0]"
   ]
  },
  {
   "cell_type": "markdown",
   "metadata": {},
   "source": [
    "The provided dataset contains a lot of information, much more than we are going to use in this tutorial. Therefore, we will select a subset of the column:"
   ]
  },
  {
   "cell_type": "code",
   "execution_count": 20,
   "metadata": {},
   "outputs": [],
   "source": [
    "data_visits = data_visits[['vid', 'project', 'visit_date', 'name', 'pcode', 'workers_numb', 'interference', 'armed_group1', 'mineral1', 'geometry']]"
   ]
  },
  {
   "cell_type": "code",
   "execution_count": 21,
   "metadata": {},
   "outputs": [
    {
     "data": {
      "text/html": [
       "<div>\n",
       "<style scoped>\n",
       "    .dataframe tbody tr th:only-of-type {\n",
       "        vertical-align: middle;\n",
       "    }\n",
       "\n",
       "    .dataframe tbody tr th {\n",
       "        vertical-align: top;\n",
       "    }\n",
       "\n",
       "    .dataframe thead th {\n",
       "        text-align: right;\n",
       "    }\n",
       "</style>\n",
       "<table border=\"1\" class=\"dataframe\">\n",
       "  <thead>\n",
       "    <tr style=\"text-align: right;\">\n",
       "      <th></th>\n",
       "      <th>vid</th>\n",
       "      <th>project</th>\n",
       "      <th>visit_date</th>\n",
       "      <th>name</th>\n",
       "      <th>pcode</th>\n",
       "      <th>workers_numb</th>\n",
       "      <th>interference</th>\n",
       "      <th>armed_group1</th>\n",
       "      <th>mineral1</th>\n",
       "      <th>geometry</th>\n",
       "    </tr>\n",
       "  </thead>\n",
       "  <tbody>\n",
       "    <tr>\n",
       "      <th>0</th>\n",
       "      <td>1</td>\n",
       "      <td>IPIS - 2009</td>\n",
       "      <td>2009-01-01</td>\n",
       "      <td>Eohe</td>\n",
       "      <td>codmine00191</td>\n",
       "      <td>300.0</td>\n",
       "      <td>NaN</td>\n",
       "      <td>None</td>\n",
       "      <td>Or</td>\n",
       "      <td>POINT (28.71258 0.33188)</td>\n",
       "    </tr>\n",
       "    <tr>\n",
       "      <th>1</th>\n",
       "      <td>2</td>\n",
       "      <td>IPIS - 2009</td>\n",
       "      <td>2009-01-01</td>\n",
       "      <td>Eita</td>\n",
       "      <td>codmine00192</td>\n",
       "      <td>110.0</td>\n",
       "      <td>NaN</td>\n",
       "      <td>None</td>\n",
       "      <td>Or</td>\n",
       "      <td>POINT (28.69916 0.32153)</td>\n",
       "    </tr>\n",
       "    <tr>\n",
       "      <th>2</th>\n",
       "      <td>3</td>\n",
       "      <td>IPIS - 2009</td>\n",
       "      <td>2009-01-01</td>\n",
       "      <td>Mungu Iko</td>\n",
       "      <td>codmine00242</td>\n",
       "      <td>NaN</td>\n",
       "      <td>NaN</td>\n",
       "      <td>FARDC</td>\n",
       "      <td>Or</td>\n",
       "      <td>POINT (28.18514 0.54499)</td>\n",
       "    </tr>\n",
       "    <tr>\n",
       "      <th>3</th>\n",
       "      <td>4</td>\n",
       "      <td>IPIS - 2009</td>\n",
       "      <td>2009-01-01</td>\n",
       "      <td>Kiviri/Tayna</td>\n",
       "      <td>codmine00260</td>\n",
       "      <td>NaN</td>\n",
       "      <td>NaN</td>\n",
       "      <td>FDLR</td>\n",
       "      <td>Or</td>\n",
       "      <td>POINT (28.88453 -0.35253)</td>\n",
       "    </tr>\n",
       "    <tr>\n",
       "      <th>4</th>\n",
       "      <td>5</td>\n",
       "      <td>IPIS - 2009</td>\n",
       "      <td>2009-01-01</td>\n",
       "      <td>Makanga</td>\n",
       "      <td>codmine00272</td>\n",
       "      <td>NaN</td>\n",
       "      <td>NaN</td>\n",
       "      <td>FDLR</td>\n",
       "      <td>Or</td>\n",
       "      <td>POINT (28.90395 -0.03671)</td>\n",
       "    </tr>\n",
       "  </tbody>\n",
       "</table>\n",
       "</div>"
      ],
      "text/plain": [
       "   vid      project  visit_date          name         pcode  workers_numb  \\\n",
       "0    1  IPIS - 2009  2009-01-01          Eohe  codmine00191         300.0   \n",
       "1    2  IPIS - 2009  2009-01-01          Eita  codmine00192         110.0   \n",
       "2    3  IPIS - 2009  2009-01-01     Mungu Iko  codmine00242           NaN   \n",
       "3    4  IPIS - 2009  2009-01-01  Kiviri/Tayna  codmine00260           NaN   \n",
       "4    5  IPIS - 2009  2009-01-01       Makanga  codmine00272           NaN   \n",
       "\n",
       "   interference armed_group1 mineral1                   geometry  \n",
       "0           NaN         None       Or   POINT (28.71258 0.33188)  \n",
       "1           NaN         None       Or   POINT (28.69916 0.32153)  \n",
       "2           NaN        FARDC       Or   POINT (28.18514 0.54499)  \n",
       "3           NaN         FDLR       Or  POINT (28.88453 -0.35253)  \n",
       "4           NaN         FDLR       Or  POINT (28.90395 -0.03671)  "
      ]
     },
     "execution_count": 21,
     "metadata": {},
     "output_type": "execute_result"
    }
   ],
   "source": [
    "data_visits.head()"
   ]
  },
  {
   "cell_type": "markdown",
   "metadata": {},
   "source": [
    "Before starting the actual geospatial tutorial, we will use some more advanced pandas queries to construct a subset of the data that we will use further on: "
   ]
  },
  {
   "cell_type": "code",
   "execution_count": 22,
   "metadata": {},
   "outputs": [],
   "source": [
    "# Take only the data of visits by IPIS\n",
    "data_ipis = data_visits[data_visits['project'].str.contains('IPIS') & (data_visits['workers_numb'] > 0)]"
   ]
  },
  {
   "cell_type": "code",
   "execution_count": 23,
   "metadata": {},
   "outputs": [],
   "source": [
    "# For those mining sites that were visited multiple times, take only the last visit\n",
    "data_ipis_lastvisit = data_ipis.sort_values('visit_date').groupby('pcode', as_index=False).last()\n",
    "data = geopandas.GeoDataFrame(data_ipis_lastvisit, crs=data_visits.crs)"
   ]
  },
  {
   "cell_type": "markdown",
   "metadata": {},
   "source": [
    "### Data on protected areas in the same region\n",
    "\n",
    "Next to the mining site data, we are also going to use a dataset on protected areas (national parks) in Congo. This dataset was downloaded from http://www.wri.org/our-work/project/congo-basin-forests/democratic-republic-congo#project-tabs and included in the tutorial repository: `data/cod_conservation.zip`."
   ]
  },
  {
   "cell_type": "markdown",
   "metadata": {},
   "source": [
    "<div class=\"alert alert-success\">\n",
    " <b>EXERCISE</b>:\n",
    " <ul>\n",
    "  <li>Extract the `data/cod_conservation.zip` archive, and read the shapefile contained in it. Assign the resulting GeoDataFrame to a variable named `protected_areas`.</li>\n",
    "  <li>Quickly plot the GeoDataFrame.</li>\n",
    " </ul> \n",
    "</div>"
   ]
  },
  {
   "cell_type": "code",
   "execution_count": 30,
   "metadata": {
    "clear_cell": true
   },
   "outputs": [],
   "source": [
    "# %load _solved/solutions/case-conflict-mapping10.py\n",
    "protected_areas = geopandas.read_file(\"data/Conservation/RDC_aire_protegee_2013.shp\")\n",
    "# or to read it directly from the zip file:\n",
    "# protected_areas = geopandas.read_file(\"/Conservation\", vfs=\"zip://./data/cod_conservation.zip\")"
   ]
  },
  {
   "cell_type": "code",
   "execution_count": 31,
   "metadata": {
    "clear_cell": true
   },
   "outputs": [
    {
     "data": {
      "text/plain": [
       "<AxesSubplot:>"
      ]
     },
     "execution_count": 31,
     "metadata": {},
     "output_type": "execute_result"
    },
    {
     "data": {
      "image/png": "[encoded data removed]",
      "text/plain": [
       "<Figure size 432x288 with 1 Axes>"
      ]
     },
     "metadata": {
      "needs_background": "light"
     },
     "output_type": "display_data"
    }
   ],
   "source": [
    "# %load _solved/solutions/case-conflict-mapping11.py\n",
    "protected_areas.plot()"
   ]
  },
  {
   "cell_type": "markdown",
   "metadata": {},
   "source": [
    "### Conversion to a common Coordinate Reference System\n",
    "\n",
    "We will see that both datasets use a different Coordinate Reference System (CRS). For many operations, however, it is important that we use a consistent CRS, and therefore we will convert both to a commong CRS.\n",
    "\n",
    "But first, we explore problems we can encounter related to CRSs.\n",
    "\n",
    "---"
   ]
  },
  {
   "cell_type": "markdown",
   "metadata": {},
   "source": [
    "[Goma](https://en.wikipedia.org/wiki/Goma) is the capital city of North Kivu province of Congo, close to the border with Rwanda. It's coordinates are 1.66°S 29.22°E.\n",
    "\n",
    "<div class=\"alert alert-success\">\n",
    " <b>EXERCISE</b>:\n",
    " <ul>\n",
    "  <li>Create a single Point object representing the location of Goma. Call this `goma`.</li>\n",
    "  <li>Calculate the distances of all mines to Goma, and show the 5 smallest distances (mines closest to Goma).</li>\n",
    " </ul> \n",
    "</div>"
   ]
  },
  {
   "cell_type": "code",
   "execution_count": 53,
   "metadata": {
    "clear_cell": true
   },
   "outputs": [],
   "source": [
    "# %load _solved/solutions/case-conflict-mapping12.py\n",
    "from shapely.geometry import Point"
   ]
  },
  {
   "cell_type": "code",
   "execution_count": 54,
   "metadata": {
    "clear_cell": true
   },
   "outputs": [],
   "source": [
    "# %load _solved/solutions/case-conflict-mapping13.py\n",
    "goma = Point(29.22, -1.66)  # (x [W-E], y [N-S])"
   ]
  },
  {
   "cell_type": "code",
   "execution_count": 55,
   "metadata": {
    "clear_cell": true
   },
   "outputs": [
    {
     "name": "stderr",
     "output_type": "stream",
     "text": [
      "/Users/csr95/opt/anaconda3/envs/scipygeo18/lib/python3.7/site-packages/ipykernel_launcher.py:2: UserWarning: Geometry is in a geographic CRS. Results from 'distance' are likely incorrect. Use 'GeoSeries.to_crs()' to re-project geometries to a projected CRS before this operation.\n",
      "\n",
      "  \n"
     ]
    },
    {
     "data": {
      "text/plain": [
       "0       2.706944\n",
       "1       2.698960\n",
       "2       2.681363\n",
       "3       2.693492\n",
       "4       2.652745\n",
       "          ...   \n",
       "2146    1.772643\n",
       "2147    0.355295\n",
       "2148    0.357936\n",
       "2149    0.611831\n",
       "2150    0.620439\n",
       "Length: 2151, dtype: float64"
      ]
     },
     "execution_count": 55,
     "metadata": {},
     "output_type": "execute_result"
    }
   ],
   "source": [
    "# %load _solved/solutions/case-conflict-mapping14.py\n",
    "dist_goma = data.distance(goma)\n",
    "dist_goma"
   ]
  },
  {
   "cell_type": "code",
   "execution_count": 57,
   "metadata": {
    "clear_cell": true
   },
   "outputs": [
    {
     "data": {
      "text/plain": [
       "301     0.226353\n",
       "1868    0.235082\n",
       "1865    0.252101\n",
       "1067    0.263424\n",
       "1538    0.264856\n",
       "dtype: float64"
      ]
     },
     "execution_count": 57,
     "metadata": {},
     "output_type": "execute_result"
    }
   ],
   "source": [
    "# %load _solved/solutions/case-conflict-mapping15.py\n",
    "sorted_dist_goma = dist_goma.sort_values()\n",
    "sorted_dist_goma.head()\n",
    "# or dist_goma.nsmallest(5)"
   ]
  },
  {
   "cell_type": "markdown",
   "metadata": {},
   "source": [
    "The distances we see here in degrees, which is not helpful for interpreting those distances. That is a reason we will convert the data to another coordinate reference system (CRS) for the remainder of this tutorial."
   ]
  },
  {
   "cell_type": "markdown",
   "metadata": {},
   "source": [
    "<div class=\"alert alert-success\">\n",
    " <b>EXERCISE</b>:\n",
    " <ul>\n",
    "  <li>Make a visualization of the national parks and the mining sites on a single plot.</li>\n",
    " </ul> \n",
    " \n",
    "<p>Check the first section of the [04-more-on-visualization.ipynb](04-more-on-visualization.ipynb) notebook for tips and tricks to plot with GeoPandas.</p>\n",
    "</div>"
   ]
  },
  {
   "cell_type": "code",
   "execution_count": 64,
   "metadata": {
    "clear_cell": true
   },
   "outputs": [
    {
     "data": {
      "text/plain": [
       "<AxesSubplot:>"
      ]
     },
     "execution_count": 64,
     "metadata": {},
     "output_type": "execute_result"
    },
    {
     "data": {
      "image/png": "[encoded data removed]",
      "text/plain": [
       "<Figure size 432x288 with 1 Axes>"
      ]
     },
     "metadata": {
      "needs_background": "light"
     },
     "output_type": "display_data"
    }
   ],
   "source": [
    "# %load _solved/solutions/case-conflict-mapping16.py\n",
    "ax = protected_areas.plot(edgecolor='k', facecolor='none')\n",
    "data.plot(ax=ax, color='red')"
   ]
  },
  {
   "cell_type": "markdown",
   "metadata": {},
   "source": [
    "You will notice that the protected areas and mining sites do not map to the same area on the plot. This is because the Coordinate Reference Systems (CRS) differ for both datasets. Another reason we will need to convert the CRS!\n",
    "\n",
    "Let's check the Coordinate Reference System (CRS) for both datasets.\n",
    "\n",
    "The mining sites data uses the [WGS 84 lat/lon (EPSG 4326)](http://spatialreference.org/ref/epsg/4326/) CRS:"
   ]
  },
  {
   "cell_type": "code",
   "execution_count": 65,
   "metadata": {},
   "outputs": [
    {
     "data": {
      "text/plain": [
       "<Geographic 2D CRS: EPSG:4326>\n",
       "Name: WGS 84\n",
       "Axis Info [ellipsoidal]:\n",
       "- Lat[north]: Geodetic latitude (degree)\n",
       "- Lon[east]: Geodetic longitude (degree)\n",
       "Area of Use:\n",
       "- name: World\n",
       "- bounds: (-180.0, -90.0, 180.0, 90.0)\n",
       "Datum: World Geodetic System 1984\n",
       "- Ellipsoid: WGS 84\n",
       "- Prime Meridian: Greenwich"
      ]
     },
     "execution_count": 65,
     "metadata": {},
     "output_type": "execute_result"
    }
   ],
   "source": [
    "data.crs"
   ]
  },
  {
   "cell_type": "markdown",
   "metadata": {},
   "source": [
    "The protected areas dataset, on the other hand, uses a [WGS 84 / World Mercator (EPSG 3395)](http://spatialreference.org/ref/epsg/wgs-84-world-mercator/) projection (with meters as unit):"
   ]
  },
  {
   "cell_type": "code",
   "execution_count": 66,
   "metadata": {},
   "outputs": [
    {
     "data": {
      "text/plain": [
       "<Projected CRS: PROJCS[\"RDC_Mercator\",GEOGCS[\"WGS 84\",DATUM[\"WGS_1 ...>\n",
       "Name: RDC_Mercator\n",
       "Axis Info [cartesian]:\n",
       "- [east]: Easting (metre)\n",
       "- [north]: Northing (metre)\n",
       "Area of Use:\n",
       "- undefined\n",
       "Coordinate Operation:\n",
       "- name: unnamed\n",
       "- method: Mercator (variant B)\n",
       "Datum: World Geodetic System 1984\n",
       "- Ellipsoid: WGS 84\n",
       "- Prime Meridian: Greenwich"
      ]
     },
     "execution_count": 66,
     "metadata": {},
     "output_type": "execute_result"
    }
   ],
   "source": [
    "protected_areas.crs"
   ]
  },
  {
   "cell_type": "markdown",
   "metadata": {},
   "source": [
    "We will convert both datasets to a local UTM zone, so we can plot them together and that distance-based calculations give sensible results.\n",
    "\n",
    "To find the appropriate UTM zone, you can check http://www.dmap.co.uk/utmworld.htm or https://www.latlong.net/lat-long-utm.html, and in this case we will use UTM zone 35, which gives use EPSG 32735: https://epsg.io/32735\n",
    "\n",
    "<div class=\"alert alert-success\">\n",
    " <b>EXERCISE</b>:\n",
    " <ul>\n",
    "  <li>Convert both datasets (`data` and `protected_areas`) to EPSG 32735. Name the results `data_utm` and `protected_areas_utm`.</li>\n",
    "  <li>Try again to visualize both datasets on a single map.</li>\n",
    " </ul> \n",
    "\n",
    "</div>"
   ]
  },
  {
   "cell_type": "code",
   "execution_count": 71,
   "metadata": {
    "clear_cell": true
   },
   "outputs": [],
   "source": [
    "# %load _solved/solutions/case-conflict-mapping19.py\n",
    "data_utm = data.to_crs(epsg=32735)\n",
    "protected_areas_utm = protected_areas.to_crs(epsg=32735)"
   ]
  },
  {
   "cell_type": "code",
   "execution_count": 87,
   "metadata": {
    "clear_cell": true
   },
   "outputs": [
    {
     "data": {
      "text/plain": [
       "<AxesSubplot:>"
      ]
     },
     "execution_count": 87,
     "metadata": {},
     "output_type": "execute_result"
    },
    {
     "data": {
      "image/png": "[encoded data removed]",
      "text/plain": [
       "<Figure size 432x288 with 1 Axes>"
      ]
     },
     "metadata": {
      "needs_background": "light"
     },
     "output_type": "display_data"
    }
   ],
   "source": [
    "# %load _solved/solutions/case-conflict-mapping20.py\n",
    "ax = protected_areas_utm.plot()\n",
    "data_utm.plot(ax=ax, color='r')"
   ]
  },
  {
   "cell_type": "markdown",
   "metadata": {},
   "source": [
    "### More advanced visualizations\n",
    "\n",
    "<p>For the following exercises, check the first section of the [04-more-on-visualization.ipynb](04-more-on-visualization.ipynb) notebook for tips and tricks to plot with GeoPandas.</p>"
   ]
  },
  {
   "cell_type": "markdown",
   "metadata": {},
   "source": [
    "<div class=\"alert alert-success\">\n",
    " <b>EXERCISE</b>:\n",
    " <ul>\n",
    "  <li>Make a visualization of the national parks and the mining sites on a single plot.</li>\n",
    "  <li>Pay attention to the following details:\n",
    "     <ul>\n",
    "      <li>Make the figure a bit bigger.</li>\n",
    "      <li>The protected areas should be plotted in green</li>\n",
    "      <li>For plotting the mining sites, adjust the markersize and use an `alpha=0.5`.</li>\n",
    "      <li>Remove the figure border and x and y labels (coordinates)</li>\n",
    "     </ul> \n",
    "   </li>\n",
    " </ul> \n",
    "</div>"
   ]
  },
  {
   "cell_type": "code",
   "execution_count": 95,
   "metadata": {
    "clear_cell": true
   },
   "outputs": [
    {
     "data": {
      "image/png": "[encoded data removed]",
      "text/plain": [
       "<Figure size 504x504 with 1 Axes>"
      ]
     },
     "metadata": {
      "needs_background": "light"
     },
     "output_type": "display_data"
    }
   ],
   "source": [
    "# %load _solved/solutions/case-conflict-mapping21.py\n",
    "ax = protected_areas_utm.plot(color='green', figsize=(7,7))\n",
    "data_utm.plot(ax=ax, color='red', markersize=3, alpha=0.5)\n",
    "ax.set_axis_off()"
   ]
  },
  {
   "cell_type": "code",
   "execution_count": 98,
   "metadata": {
    "clear_cell": true
   },
   "outputs": [
    {
     "data": {
      "image/png": "[encoded data removed]",
      "text/plain": [
       "<Figure size 504x504 with 1 Axes>"
      ]
     },
     "metadata": {
      "needs_background": "light"
     },
     "output_type": "display_data"
    }
   ],
   "source": [
    "# %load _solved/solutions/case-conflict-mapping22.py\n",
    "#### Alternative with constructing the matplotlib figure first\n",
    "fig, ax = plt.subplots(figsize=(7, 7), subplot_kw=dict(aspect='equal'))\n",
    "protected_areas_utm.plot(ax=ax, color='green')\n",
    "data_utm.plot(ax=ax, color='red', markersize=3, alpha=0.5)\n",
    "ax.set_axis_off()"
   ]
  },
  {
   "cell_type": "markdown",
   "metadata": {},
   "source": [
    "<div class=\"alert alert-success\">\n",
    " <b>EXERCISE</b>:\n",
    " \n",
    " In addition to the previous figure:\n",
    " <ul>\n",
    "  <li>Give the mining sites a distinct color based on the `'interference'` column, indicating whether an armed group is present at the mining site or not.</li>\n",
    " </ul> \n",
    "</div>"
   ]
  },
  {
   "cell_type": "code",
   "execution_count": 104,
   "metadata": {
    "clear_cell": true
   },
   "outputs": [
    {
     "data": {
      "image/png": "[encoded data removed]",
      "text/plain": [
       "<Figure size 504x504 with 1 Axes>"
      ]
     },
     "metadata": {
      "needs_background": "light"
     },
     "output_type": "display_data"
    }
   ],
   "source": [
    "# %load _solved/solutions/case-conflict-mapping23.py\n",
    "ax = protected_areas_utm.plot(color='green', figsize=(7,7))\n",
    "data_utm.plot(ax=ax, markersize=3, alpha=0.5, column='interference')\n",
    "ax.set_axis_off()"
   ]
  },
  {
   "cell_type": "markdown",
   "metadata": {},
   "source": [
    "<div class=\"alert alert-success\">\n",
    " <b>EXERCISE</b>:\n",
    " \n",
    " In addition to the previous figure:\n",
    " <ul>\n",
    "  <li>Give the mining sites a distinct color based on the `'mineral1'` column, indicating which mineral is the primary mined mineral.</li>\n",
    " </ul> \n",
    "</div>"
   ]
  },
  {
   "cell_type": "code",
   "execution_count": 111,
   "metadata": {
    "clear_cell": true
   },
   "outputs": [
    {
     "data": {
      "image/png": "[encoded data removed]",
      "text/plain": [
       "<Figure size 504x504 with 1 Axes>"
      ]
     },
     "metadata": {
      "needs_background": "light"
     },
     "output_type": "display_data"
    }
   ],
   "source": [
    "# %load _solved/solutions/case-conflict-mapping24.py\n",
    "ax = protected_areas_utm.plot(color='green', figsize=(7,7))\n",
    "data_utm.plot(ax=ax, markersize=3, column='mineral1', legend=True)\n",
    "ax.set_axis_off()"
   ]
  },
  {
   "cell_type": "markdown",
   "metadata": {},
   "source": [
    "## 2. Spatial operations"
   ]
  },
  {
   "cell_type": "markdown",
   "metadata": {},
   "source": [
    "<div class=\"alert alert-success\">\n",
    " <b>EXERCISE</b>:\n",
    " \n",
    " <ul>\n",
    "  <li>Access the geometry of the \"Kahuzi-Biega National park\".</li>\n",
    "  <li>Filter the mining sites to select those that are located in this national park.</li>\n",
    " </ul> \n",
    "</div>"
   ]
  },
  {
   "cell_type": "code",
   "execution_count": null,
   "metadata": {
    "clear_cell": true
   },
   "outputs": [],
   "source": [
    "# %load _solved/solutions/case-conflict-mapping25.py"
   ]
  },
  {
   "cell_type": "code",
   "execution_count": null,
   "metadata": {
    "clear_cell": true
   },
   "outputs": [],
   "source": [
    "# %load _solved/solutions/case-conflict-mapping26.py"
   ]
  },
  {
   "cell_type": "code",
   "execution_count": null,
   "metadata": {
    "clear_cell": true
   },
   "outputs": [],
   "source": [
    "# %load _solved/solutions/case-conflict-mapping27.py"
   ]
  },
  {
   "cell_type": "markdown",
   "metadata": {},
   "source": [
    "<div class=\"alert alert-success\">\n",
    " <b>EXERCISE</b>: Determine for each mining site the \"closest\" protected area:\n",
    " \n",
    " <ul>\n",
    "  <li> PART 1 - do this for a single mining site:\n",
    "   <ul>\n",
    "    <li>Get a single mining site, e.g. the first of the dataset.</li>\n",
    "    <li>Calculate the distance (in km's) to all protected areas for this mining site</li>\n",
    "    <li>Get the index of the minimum distance (tip: `idxmin()`) and get the name of the protected are corresponding to this index.</li>\n",
    "   </ul> \n",
    "  </li>\n",
    "  <li> PART 2 - apply this procedure on each geometry:\n",
    "   <ul>\n",
    "    <li>Write the above procedure as a function that gets a single site and the protected areas dataframe as input and returns the name of the closest protected area as output.</li>\n",
    "    <li>Apply this function to all sites using the `.apply()` method on `data_utm.geometry`.</li>\n",
    "   </ul> \n",
    "  </li>\n",
    " </ul> \n",
    "</div>"
   ]
  },
  {
   "cell_type": "code",
   "execution_count": null,
   "metadata": {
    "clear_cell": true
   },
   "outputs": [],
   "source": [
    "# %load _solved/solutions/case-conflict-mapping28.py"
   ]
  },
  {
   "cell_type": "code",
   "execution_count": null,
   "metadata": {
    "clear_cell": true
   },
   "outputs": [],
   "source": [
    "# %load _solved/solutions/case-conflict-mapping29.py"
   ]
  },
  {
   "cell_type": "code",
   "execution_count": null,
   "metadata": {
    "clear_cell": true
   },
   "outputs": [],
   "source": [
    "# %load _solved/solutions/case-conflict-mapping30.py"
   ]
  },
  {
   "cell_type": "code",
   "execution_count": null,
   "metadata": {
    "clear_cell": true
   },
   "outputs": [],
   "source": [
    "# %load _solved/solutions/case-conflict-mapping31.py"
   ]
  },
  {
   "cell_type": "code",
   "execution_count": null,
   "metadata": {
    "clear_cell": true
   },
   "outputs": [],
   "source": [
    "# %load _solved/solutions/case-conflict-mapping32.py"
   ]
  },
  {
   "cell_type": "markdown",
   "metadata": {},
   "source": [
    "## 3. Using spatial join to determine mining sites in the protected areas\n",
    "\n",
    "Based on the analysis and visualizations above, we can already see that there are mining sites inside the protected areas. Let's now do an actual spatial join to determine which sites are within the protected areas."
   ]
  },
  {
   "cell_type": "markdown",
   "metadata": {},
   "source": [
    "### Mining sites in protected areas\n",
    "\n",
    "<div class=\"alert alert-success\">\n",
    " <b>EXERCISE</b>:\n",
    " <ul>\n",
    "  <li>Add information about the protected areas to the mining sites dataset, using a spatial join:\n",
    "   <ul>\n",
    "    <li>Call the result `data_within_protected`</li>\n",
    "    <li>If the result is empty, this is an indication that the coordinate reference system is not matching. Make sure to re-project the data (see above).</li>\n",
    "      \n",
    "   </ul>\n",
    "  </li>\n",
    "  <li>How many mining sites are located within a national park?</li>\n",
    "  <li>Count the number of mining sites per national park (pandas tip: check `value_counts()`)</li>\n",
    "\n",
    " </ul> \n",
    "\n",
    "</div>"
   ]
  },
  {
   "cell_type": "code",
   "execution_count": null,
   "metadata": {
    "clear_cell": true
   },
   "outputs": [],
   "source": [
    "# %load _solved/solutions/case-conflict-mapping33.py"
   ]
  },
  {
   "cell_type": "code",
   "execution_count": null,
   "metadata": {
    "clear_cell": true
   },
   "outputs": [],
   "source": [
    "# %load _solved/solutions/case-conflict-mapping34.py"
   ]
  },
  {
   "cell_type": "code",
   "execution_count": null,
   "metadata": {
    "clear_cell": true
   },
   "outputs": [],
   "source": [
    "# %load _solved/solutions/case-conflict-mapping35.py"
   ]
  },
  {
   "cell_type": "code",
   "execution_count": null,
   "metadata": {
    "clear_cell": true
   },
   "outputs": [],
   "source": [
    "# %load _solved/solutions/case-conflict-mapping36.py"
   ]
  },
  {
   "cell_type": "markdown",
   "metadata": {},
   "source": [
    "### Mining sites in the borders of protected areas\n",
    "\n",
    "And what about the borders of the protected areas? (just outside the park)\n",
    "\n",
    "<div class=\"alert alert-success\">\n",
    " <b>EXERCISE</b>:\n",
    " <ul>\n",
    "  <li>Create a new dataset, `protected_areas_borders`, that contains the border area (10 km wide) of each protected area:\n",
    "   <ul>\n",
    "    <li>Tip: one way of doing this is with the `buffer` and `difference` function.</li>\n",
    "    <li>Plot the resulting borders as a visual check of correctness.</li>\n",
    "   </ul>\n",
    "  </li>\n",
    "  <li>Count the number of mining sites per national park that are located within its borders</li>\n",
    "\n",
    " </ul> \n",
    "\n",
    "</div>"
   ]
  },
  {
   "cell_type": "code",
   "execution_count": null,
   "metadata": {
    "clear_cell": true
   },
   "outputs": [],
   "source": [
    "# %load _solved/solutions/case-conflict-mapping37.py"
   ]
  },
  {
   "cell_type": "code",
   "execution_count": null,
   "metadata": {
    "clear_cell": true
   },
   "outputs": [],
   "source": [
    "# %load _solved/solutions/case-conflict-mapping38.py"
   ]
  },
  {
   "cell_type": "code",
   "execution_count": null,
   "metadata": {
    "clear_cell": true
   },
   "outputs": [],
   "source": [
    "# %load _solved/solutions/case-conflict-mapping39.py"
   ]
  },
  {
   "cell_type": "code",
   "execution_count": null,
   "metadata": {
    "clear_cell": true
   },
   "outputs": [],
   "source": [
    "# %load _solved/solutions/case-conflict-mapping40.py"
   ]
  },
  {
   "cell_type": "code",
   "execution_count": null,
   "metadata": {
    "clear_cell": true
   },
   "outputs": [],
   "source": [
    "# %load _solved/solutions/case-conflict-mapping41.py"
   ]
  }
 ],
 "metadata": {
  "kernelspec": {
   "display_name": "Python 3",
   "language": "python",
   "name": "python3"
  },
  "language_info": {
   "codemirror_mode": {
    "name": "ipython",
    "version": 3
   },
   "file_extension": ".py",
   "mimetype": "text/x-python",
   "name": "python",
   "nbconvert_exporter": "python",
   "pygments_lexer": "ipython3",
   "version": "3.7.7"
  }
 },
 "nbformat": 4,
 "nbformat_minor": 2
}
